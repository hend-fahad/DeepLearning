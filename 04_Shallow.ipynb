{
  "nbformat": 4,
  "nbformat_minor": 0,
  "metadata": {
    "colab": {
      "provenance": []
    },
    "kernelspec": {
      "name": "python3",
      "display_name": "Python 3"
    },
    "language_info": {
      "name": "python"
    }
  },
  "cells": [
    {
      "cell_type": "markdown",
      "source": [
        "# Shallow Neural Network Lab Tutorial with PyTorch\n",
        "\n",
        "In this tutorial, we will:\n",
        "\n",
        "1. Create a **perceptron** (a single-layer linear model) that accepts 1D inputs.\n",
        "2. Explore and compare a couple of activation functions (including a custom implementation of **ReLU**).\n",
        "3. Build a **shallow neural network** with:\n",
        "   - **One input**\n",
        "   - **Three hidden units** (in a single hidden layer)\n",
        "   - **One output**\n",
        "4. Plot a diagram of the shallow network.\n",
        "5. Define parameters, generate dummy data, run the network, and compute the **least squares loss** (Mean Squared Error).\n",
        "\n",
        "Follow along with the code cells and comments. At the end, you will find a list of exercises for further exploration.\n"
      ],
      "metadata": {
        "id": "zq9ZExAq0KPC"
      }
    },
    {
      "cell_type": "code",
      "source": [
        "# Import Libraries\n",
        "import torch\n",
        "import torch.nn as nn\n",
        "import torch.nn.functional as F\n",
        "import matplotlib.pyplot as plt\n",
        "import numpy as np\n",
        "import networkx as nx\n",
        "\n",
        "# Check PyTorch version\n",
        "print(\"PyTorch version:\", torch.__version__)\n"
      ],
      "metadata": {
        "colab": {
          "base_uri": "https://localhost:8080/"
        },
        "id": "CLU997Mw0Q8j",
        "outputId": "ed78f6c1-f7be-48d3-ad84-898f8b02bac6"
      },
      "execution_count": 3,
      "outputs": [
        {
          "output_type": "stream",
          "name": "stdout",
          "text": [
            "PyTorch version: 2.5.1+cu124\n"
          ]
        }
      ]
    },
    {
      "cell_type": "markdown",
      "source": [
        "## 1. Perceptron Example (1D Inputs)\n",
        "\n",
        "A perceptron is a single-layer linear model. For 1D inputs, it performs a simple linear transformation:\n",
        "\n",
        "\\[\n",
        "y = w \\cdot x + b\n",
        "\\]\n",
        "\n",
        "We will define a perceptron using PyTorch’s `nn.Linear` layer and run it on some dummy data.\n"
      ],
      "metadata": {
        "id": "jDNT-O_Z0VRn"
      }
    },
    {
      "cell_type": "code",
      "source": [
        "# Define a simple perceptron with 1 input and 1 output.\n",
        "perceptron = nn.Linear(in_features=1, out_features=1)\n",
        "\n",
        "# Generate some dummy data: 1D inputs.\n",
        "# For example, let's create 10 data points between -10 and 10.\n",
        "x = torch.linspace(-10, 10, steps=10).unsqueeze(1)  # shape (10, 1)\n",
        "print(\"Input x:\\n\", x)\n",
        "\n",
        "# Compute the perceptron output\n",
        "output = perceptron(x)\n",
        "print(\"Perceptron output:\\n\", output)\n"
      ],
      "metadata": {
        "colab": {
          "base_uri": "https://localhost:8080/"
        },
        "id": "Q_JbNllH0Zg_",
        "outputId": "f13905fe-c546-48a9-fefe-1539931e7fda"
      },
      "execution_count": 4,
      "outputs": [
        {
          "output_type": "stream",
          "name": "stdout",
          "text": [
            "Input x:\n",
            " tensor([[-10.0000],\n",
            "        [ -7.7778],\n",
            "        [ -5.5556],\n",
            "        [ -3.3333],\n",
            "        [ -1.1111],\n",
            "        [  1.1111],\n",
            "        [  3.3333],\n",
            "        [  5.5556],\n",
            "        [  7.7778],\n",
            "        [ 10.0000]])\n",
            "Perceptron output:\n",
            " tensor([[-8.1919],\n",
            "        [-6.5214],\n",
            "        [-4.8509],\n",
            "        [-3.1805],\n",
            "        [-1.5100],\n",
            "        [ 0.1604],\n",
            "        [ 1.8309],\n",
            "        [ 3.5014],\n",
            "        [ 5.1718],\n",
            "        [ 6.8423]], grad_fn=<AddmmBackward0>)\n"
          ]
        }
      ]
    },
    {
      "cell_type": "markdown",
      "source": [
        "## 2. Exploring Activation Functions\n",
        "\n",
        "Neural networks use activation functions to introduce non-linearity. In this section, we will explore two built-in activation functions, **Sigmoid** and **Tanh**, and also implement our own **ReLU**.\n",
        "\n",
        "### Custom Implementation of ReLU\n",
        "\n",
        "The ReLU (Rectified Linear Unit) function is defined as:\n",
        "\n",
        "\\[\n",
        "\\text{ReLU}(x) = \\max(0, x)\n",
        "\\]\n",
        "\n",
        "Let's implement it as a function.\n"
      ],
      "metadata": {
        "id": "S00y8rQP0dVu"
      }
    },
    {
      "cell_type": "code",
      "source": [
        "def custom_relu(x):\n",
        "    \"\"\"\n",
        "    Custom implementation of the ReLU activation function.\n",
        "    Returns element-wise max(0, x).\n",
        "    \"\"\"\n",
        "    return torch.where(x > 0, x, torch.zeros_like(x))\n"
      ],
      "metadata": {
        "id": "eRBR8aPS0gOb"
      },
      "execution_count": 5,
      "outputs": []
    },
    {
      "cell_type": "markdown",
      "source": [
        "### Plotting Activation Functions\n",
        "\n",
        "Let's compare **Sigmoid**, **Tanh**, and our custom **ReLU** by plotting them over a range of values.\n"
      ],
      "metadata": {
        "id": "9pVfgesa0ixu"
      }
    },
    {
      "cell_type": "code",
      "source": [
        "# Create a range of input values\n",
        "x_values = torch.linspace(-5, 5, steps=100)\n",
        "x_numpy = x_values.numpy()\n",
        "\n",
        "# Compute activation function outputs\n",
        "sigmoid_values = torch.sigmoid(x_values).detach().numpy()\n",
        "tanh_values = torch.tanh(x_values).detach().numpy()\n",
        "relu_values = custom_relu(x_values).detach().numpy()\n",
        "\n",
        "# Plot the activation functions\n",
        "plt.figure(figsize=(8, 5))\n",
        "plt.plot(x_numpy, sigmoid_values, label=\"Sigmoid\", linewidth=2)\n",
        "plt.plot(x_numpy, tanh_values, label=\"Tanh\", linewidth=2)\n",
        "plt.plot(x_numpy, relu_values, label=\"Custom ReLU\", linewidth=2)\n",
        "plt.title(\"Activation Functions Comparison\")\n",
        "plt.xlabel(\"Input\")\n",
        "plt.ylabel(\"Output\")\n",
        "plt.legend()\n",
        "plt.grid(True)\n",
        "plt.show()\n"
      ],
      "metadata": {
        "colab": {
          "base_uri": "https://localhost:8080/",
          "height": 487
        },
        "id": "OcGZrg0k0jrr",
        "outputId": "070f9bbb-5387-4a8e-e86b-52acd06ff870"
      },
      "execution_count": 6,
      "outputs": [
        {
          "output_type": "display_data",
          "data": {
            "text/plain": [
              "<Figure size 800x500 with 1 Axes>"
            ],
            "image/png": "[encoded data removed]"
          },
          "metadata": {}
        }
      ]
    },
    {
      "cell_type": "markdown",
      "source": [
        "## 3. Define a Shallow Neural Network\n",
        "\n",
        "Now, we build a shallow neural network with:\n",
        "- **One input unit**\n",
        "- **Three hidden units** in one hidden layer\n",
        "- **One output unit**\n",
        "\n",
        "We will allow a selectable activation function (defaulting to PyTorch’s ReLU, but here we use our custom ReLU). The network architecture is:\n",
        "\n"
      ],
      "metadata": {
        "id": "RqqolVPC0pbN"
      }
    },
    {
      "cell_type": "code",
      "source": [
        "class ShallowNet(nn.Module):\n",
        "    def __init__(self, activation=F.relu):\n",
        "        \"\"\"\n",
        "        Initialize the shallow neural network.\n",
        "\n",
        "        Parameters:\n",
        "        - activation: Activation function to use in the hidden layer (default: ReLU).\n",
        "        \"\"\"\n",
        "        super(ShallowNet, self).__init__()\n",
        "        self.fc1 = nn.Linear(in_features=1, out_features=3)  # Input to hidden layer\n",
        "        self.fc2 = nn.Linear(in_features=3, out_features=1)  # Hidden to output layer\n",
        "        self.activation = activation\n",
        "\n",
        "    def forward(self, x):\n",
        "        \"\"\"\n",
        "        Forward pass of the network.\n",
        "        \"\"\"\n",
        "        # Pass through first layer\n",
        "        x = self.fc1(x)\n",
        "        # Apply activation function\n",
        "        x = self.activation(x)\n",
        "        # Pass through second layer\n",
        "        x = self.fc2(x)\n",
        "        return x\n"
      ],
      "metadata": {
        "id": "ecFlSyrD0sBg"
      },
      "execution_count": 7,
      "outputs": []
    },
    {
      "cell_type": "code",
      "source": [
        "# Instantiate the network with a custom activation function.\n",
        "# You can also try torch.sigmoid or torch.tanh by replacing custom_relu.\n",
        "net = ShallowNet(activation=custom_relu)\n",
        "print(net)\n"
      ],
      "metadata": {
        "colab": {
          "base_uri": "https://localhost:8080/"
        },
        "id": "jaS2dqqE0xQZ",
        "outputId": "e88f48f4-0262-4ac6-a350-111502d548ec"
      },
      "execution_count": 8,
      "outputs": [
        {
          "output_type": "stream",
          "name": "stdout",
          "text": [
            "ShallowNet(\n",
            "  (fc1): Linear(in_features=1, out_features=3, bias=True)\n",
            "  (fc2): Linear(in_features=3, out_features=1, bias=True)\n",
            ")\n"
          ]
        }
      ]
    },
    {
      "cell_type": "markdown",
      "source": [
        "## 4. Plotting the Shallow Network Diagram\n",
        "\n",
        "Let's create a simple diagram of our network using **networkx** and **matplotlib**. The diagram will show:\n",
        "- One **input** node\n",
        "- Three **hidden** nodes (labeled Hidden1, Hidden2, Hidden3)\n",
        "- One **output** node\n",
        "\n",
        "Edges connect the input to each hidden unit and each hidden unit to the output.\n"
      ],
      "metadata": {
        "id": "GHI1myMD05SL"
      }
    },
    {
      "cell_type": "code",
      "source": [
        "def plot_shallow_network():\n",
        "    # Create a directed graph\n",
        "    G = nx.DiGraph()\n",
        "\n",
        "    # Define node positions (x, y coordinates)\n",
        "    pos = {\n",
        "        \"Input\": (0, 0),\n",
        "        \"Hidden1\": (1, 1),\n",
        "        \"Hidden2\": (1, 0),\n",
        "        \"Hidden3\": (1, -1),\n",
        "        \"Output\": (2, 0)\n",
        "    }\n",
        "\n",
        "    # Add nodes to the graph\n",
        "    for node in pos:\n",
        "        G.add_node(node)\n",
        "\n",
        "    # Add edges from Input to each Hidden unit\n",
        "    G.add_edge(\"Input\", \"Hidden1\")\n",
        "    G.add_edge(\"Input\", \"Hidden2\")\n",
        "    G.add_edge(\"Input\", \"Hidden3\")\n",
        "    # Add edges from each Hidden unit to Output\n",
        "    G.add_edge(\"Hidden1\", \"Output\")\n",
        "    G.add_edge(\"Hidden2\", \"Output\")\n",
        "    G.add_edge(\"Hidden3\", \"Output\")\n",
        "\n",
        "    # Draw the graph\n",
        "    plt.figure(figsize=(6, 4))\n",
        "    nx.draw(G, pos, with_labels=True, node_size=2000, node_color='lightblue',\n",
        "            arrowsize=20, font_size=10, font_weight='bold')\n",
        "    plt.title(\"Diagram of Shallow Neural Network\")\n",
        "    plt.show()\n",
        "\n",
        "# Plot the network diagram\n",
        "plot_shallow_network()\n"
      ],
      "metadata": {
        "colab": {
          "base_uri": "https://localhost:8080/",
          "height": 459
        },
        "id": "46PO67Hr06_S",
        "outputId": "a3852951-ef22-4197-f20e-55c5bcc7fa90"
      },
      "execution_count": 10,
      "outputs": [
        {
          "output_type": "display_data",
          "data": {
            "text/plain": [
              "<Figure size 600x400 with 1 Axes>"
            ],
            "image/png": "[encoded data removed]"
          },
          "metadata": {}
        }
      ]
    },
    {
      "cell_type": "markdown",
      "source": [
        "## 5. Running the Neural Network and Computing the Loss\n",
        "\n",
        "We will:\n",
        "1. Define parameters and generate dummy data.\n",
        "2. Run the shallow neural network.\n",
        "3. Compute the **least squares loss** (Mean Squared Error) between the network output and the target.\n",
        "\n",
        "Assume the true underlying relationship is:\n",
        "\n",
        "\\[\n",
        "y = 2x + 1\n",
        "\\]\n"
      ],
      "metadata": {
        "id": "aeE2PcbO1A0l"
      }
    },
    {
      "cell_type": "code",
      "source": [
        "# Define dummy data: 100 1D input points\n",
        "x_data = torch.linspace(-5, 5, steps=100).unsqueeze(1)  # shape: (100, 1)\n",
        "# Define target data according to y = 2x + 1\n",
        "y_target = 2 * x_data + 1\n",
        "\n",
        "# Run the network on the dummy data\n",
        "y_pred = net(x_data)\n",
        "\n",
        "# Define the mean squared error loss\n",
        "loss_fn = nn.MSELoss()\n",
        "\n",
        "# Compute the loss\n",
        "loss = loss_fn(y_pred, y_target)\n",
        "print(\"Mean Squared Error Loss:\", loss.item())\n"
      ],
      "metadata": {
        "colab": {
          "base_uri": "https://localhost:8080/"
        },
        "id": "FPhft_d41Eb6",
        "outputId": "159f8034-fb14-425e-f3fe-3b7fcaecf876"
      },
      "execution_count": 11,
      "outputs": [
        {
          "output_type": "stream",
          "name": "stdout",
          "text": [
            "Mean Squared Error Loss: 32.214752197265625\n"
          ]
        }
      ]
    },
    {
      "cell_type": "markdown",
      "source": [
        "## 6. Exercises for Further Exploration\n",
        "\n",
        "**Exercise 1:**  \n",
        "Modify the number of hidden units (e.g., change from 3 to 5) in the `ShallowNet` class and observe how the network's performance (loss) changes.\n",
        "\n",
        "**Exercise 2:**  \n",
        "Replace the activation function with a different one (e.g., `torch.sigmoid` or `torch.tanh`) when instantiating the network and compare the outputs and loss.\n"
      ],
      "metadata": {
        "id": "pn0Bvr3_1Hkc"
      }
    }
  ]
}