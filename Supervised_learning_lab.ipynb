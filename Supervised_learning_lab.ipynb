{
  "nbformat": 4,
  "nbformat_minor": 0,
  "metadata": {
    "colab": {
      "provenance": []
    },
    "kernelspec": {
      "name": "python3",
      "display_name": "Python 3"
    },
    "language_info": {
      "name": "python"
    }
  },
  "cells": [
    {
      "cell_type": "code",
      "execution_count": 32,
      "metadata": {
        "id": "ILzlFsi17BX5"
      },
      "outputs": [],
      "source": [
        "import numpy as np\n",
        "import matplotlib.pyplot as plt\n",
        "\n",
        "# Example data (x values and the corresponding y values)\n",
        "x = np.array([1, 2, 3, 4])\n",
        "y = np.array([2.2, 2.8, 3.6, 4.5])\n",
        "\n",
        "# Simple function to compute predictions: y = m * x + b\n",
        "def predict(x, m, b):\n",
        "  return m * x + b\n",
        "\n",
        "# Mean Squared Error Loss\n",
        "def mse_loss(y_true, y_pred):\n",
        "   return np.mean((y_true - y_pred) ** 2)\n",
        "\n",
        "# Initial guess for m and b\n",
        "m = 0.0\n",
        "b = 0.0\n",
        "\n",
        "# Learning rate and number of iterations for gradient descent\n",
        "learning_rate = 0.05\n",
        "\n",
        "iterations = 10\n",
        "\n"
      ]
    },
    {
      "cell_type": "code",
      "source": [
        "# Gradient descent loop\n",
        "for i in range(iterations):\n",
        "   print(f\"Values of parameters: m = {m:.2f}, b = {b:.2f}\")\n",
        "   y_pred = predict(x, m, b)\n",
        "    # Calculate gradients\n",
        "   m_grad = (-2 / len(x)) * np.sum(x * (y - y_pred))\n",
        "   b_grad = (-2 / len(x)) * np.sum(y - y_pred)\n",
        "   # Update parameters\n",
        "   m = m - learning_rate * m_grad\n",
        "   b = b - learning_rate * b_grad\n",
        "   # Calculate and print loss\n",
        "   loss = mse_loss(y, y_pred)\n",
        "   print(f\"Iteration {i+1}/{iterations}, Loss: {loss:.4f}\")\n",
        "   # Print the parameters after adjustment\n",
        "   print(f\"Updated parameters: m = {m:.2f}, b = {b:.2f}\")\n",
        "\n",
        "# Final predictions after training\n",
        "y_pred_final = predict(x, m, b)\n",
        "\n",
        "print(f\"The final Learned parameters: m = {m:.2f}, b = {b:.2f}\")\n",
        "print(\"Predictions:\", y_pred_final)\n",
        "\n",
        "# Plotting the results\n",
        "plt.scatter(x, y, color=\"red\", label=\"Data points\")\n",
        "plt.plot(x, y_pred_final, color=\"blue\", label=\"Fitted line\")\n",
        "plt.xlabel(\"x\")\n",
        "plt.ylabel(\"y\")\n",
        "plt.legend()\n",
        "plt.show()"
      ],
      "metadata": {
        "colab": {
          "base_uri": "https://localhost:8080/",
          "height": 1000
        },
        "id": "WuscVUaL7UH4",
        "outputId": "90624263-13e7-4de5-8950-62caed0cd297"
      },
      "execution_count": 34,
      "outputs": [
        {
          "output_type": "stream",
          "name": "stdout",
          "text": [
            "Values of parameters: m = 1.06, b = 0.51\n",
            "Iteration 1/10, Loss: 0.1232\n",
            "Updated parameters: m = 1.05, b = 0.52\n",
            "Values of parameters: m = 1.05, b = 0.52\n",
            "Iteration 2/10, Loss: 0.1197\n",
            "Updated parameters: m = 1.05, b = 0.54\n",
            "Values of parameters: m = 1.05, b = 0.54\n",
            "Iteration 3/10, Loss: 0.1164\n",
            "Updated parameters: m = 1.04, b = 0.55\n",
            "Values of parameters: m = 1.04, b = 0.55\n",
            "Iteration 4/10, Loss: 0.1131\n",
            "Updated parameters: m = 1.04, b = 0.56\n",
            "Values of parameters: m = 1.04, b = 0.56\n",
            "Iteration 5/10, Loss: 0.1099\n",
            "Updated parameters: m = 1.03, b = 0.57\n",
            "Values of parameters: m = 1.03, b = 0.57\n",
            "Iteration 6/10, Loss: 0.1068\n",
            "Updated parameters: m = 1.03, b = 0.58\n",
            "Values of parameters: m = 1.03, b = 0.58\n",
            "Iteration 7/10, Loss: 0.1038\n",
            "Updated parameters: m = 1.03, b = 0.60\n",
            "Values of parameters: m = 1.03, b = 0.60\n",
            "Iteration 8/10, Loss: 0.1009\n",
            "Updated parameters: m = 1.02, b = 0.61\n",
            "Values of parameters: m = 1.02, b = 0.61\n",
            "Iteration 9/10, Loss: 0.0980\n",
            "Updated parameters: m = 1.02, b = 0.62\n",
            "Values of parameters: m = 1.02, b = 0.62\n",
            "Iteration 10/10, Loss: 0.0953\n",
            "Updated parameters: m = 1.02, b = 0.63\n",
            "The final Learned parameters: m = 1.02, b = 0.63\n",
            "Predictions: [1.64402123 2.65935569 3.67469015 4.69002461]\n"
          ]
        },
        {
          "output_type": "display_data",
          "data": {
            "text/plain": [
              "<Figure size 640x480 with 1 Axes>"
            ],
            "image/png": "[encoded data removed]"
          },
          "metadata": {}
        }
      ]
    },
    {
      "cell_type": "markdown",
      "source": [
        "##**Lab Assignment**\n",
        "\n",
        "Using the same code above, adjust the learning rates and iterations as follows:\n",
        "\n",
        "* Learning Rates: 0.01, 0.02, and 0.05.\n",
        "* Iterations: 10, 50, 100 and 5000.\n",
        "\n",
        "**Note:** For each learning rate, apply all specified iterations (10, 50, 100 and 5000).\n",
        "\n",
        "After running the experiments, write down a justification for your observations. Discuss how different learning rates and iterations affected the model's performance, convergence speed, and overall results."
      ],
      "metadata": {
        "id": "DJna7wWAlEtE"
      }
    },
    {
      "cell_type": "code",
      "source": [],
      "metadata": {
        "id": "7UdeH_dIlD-c"
      },
      "execution_count": null,
      "outputs": []
    }
  ]
}
